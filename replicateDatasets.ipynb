{
 "cells": [
  {
   "cell_type": "code",
   "execution_count": 1,
   "id": "675e9c0c-23f6-4fdc-b154-a84be38d1eae",
   "metadata": {},
   "outputs": [
    {
     "name": "stdout",
     "output_type": "stream",
     "text": [
      "Defaulting to user installation because normal site-packages is not writeable\n",
      "Requirement already satisfied: rucio-clients in /root/.local/lib/python3.8/site-packages (1.31.7)\n",
      "Requirement already satisfied: urllib3<=1.26.14,>=1.24.2 in /usr/lib/python3/dist-packages (from rucio-clients) (1.25.8)\n",
      "Requirement already satisfied: tabulate~=0.8.0 in /root/.local/lib/python3.8/site-packages (from rucio-clients) (0.8.10)\n",
      "Requirement already satisfied: requests<=2.27.1,>=2.20.0 in /usr/lib/python3/dist-packages (from rucio-clients) (2.22.0)\n",
      "Requirement already satisfied: dogpile.cache~=1.1.2 in /root/.local/lib/python3.8/site-packages (from rucio-clients) (1.1.8)\n",
      "Requirement already satisfied: jsonschema~=3.2.0 in /root/.local/lib/python3.8/site-packages (from rucio-clients) (3.2.0)\n",
      "Requirement already satisfied: decorator>=4.0.0 in /usr/local/lib/python3.8/dist-packages (from dogpile.cache~=1.1.2->rucio-clients) (5.1.1)\n",
      "Requirement already satisfied: stevedore>=3.0.0 in /root/.local/lib/python3.8/site-packages (from dogpile.cache~=1.1.2->rucio-clients) (5.1.0)\n",
      "Requirement already satisfied: pyrsistent>=0.14.0 in /usr/local/lib/python3.8/dist-packages (from jsonschema~=3.2.0->rucio-clients) (0.18.1)\n",
      "Requirement already satisfied: setuptools in /usr/local/lib/python3.8/dist-packages (from jsonschema~=3.2.0->rucio-clients) (62.2.0)\n",
      "Requirement already satisfied: attrs>=17.4.0 in /usr/local/lib/python3.8/dist-packages (from jsonschema~=3.2.0->rucio-clients) (21.4.0)\n",
      "Requirement already satisfied: six>=1.11.0 in /usr/lib/python3/dist-packages (from jsonschema~=3.2.0->rucio-clients) (1.14.0)\n",
      "Requirement already satisfied: pbr!=2.1.0,>=2.0.0 in /root/.local/lib/python3.8/site-packages (from stevedore>=3.0.0->dogpile.cache~=1.1.2->rucio-clients) (5.11.1)\n",
      "\u001b[33mWARNING: Running pip as the 'root' user can result in broken permissions and conflicting behaviour with the system package manager. It is recommended to use a virtual environment instead: https://pip.pypa.io/warnings/venv\u001b[0m\u001b[33m\n",
      "\u001b[0m\u001b[33mWARNING: There was an error checking the latest version of pip.\u001b[0m\u001b[33m\n",
      "\u001b[0mNote: you may need to restart the kernel to use updated packages.\n"
     ]
    }
   ],
   "source": [
    "pip install rucio-clients"
   ]
  },
  {
   "cell_type": "code",
   "execution_count": 2,
   "id": "7da01373-dabf-4393-8061-86570abe2bbb",
   "metadata": {},
   "outputs": [
    {
     "ename": "ServerConnectionException",
     "evalue": "Cannot connect to the Rucio server.",
     "output_type": "error",
     "traceback": [
      "\u001b[0;31m---------------------------------------------------------------------------\u001b[0m",
      "\u001b[0;31mServerConnectionException\u001b[0m                 Traceback (most recent call last)",
      "Input \u001b[0;32mIn [2]\u001b[0m, in \u001b[0;36m<cell line: 25>\u001b[0;34m()\u001b[0m\n\u001b[1;32m     21\u001b[0m ACCOUNT \u001b[38;5;241m=\u001b[39m \u001b[38;5;124m\"\u001b[39m\u001b[38;5;124mbdanzi\u001b[39m\u001b[38;5;124m\"\u001b[39m\n\u001b[1;32m     23\u001b[0m SITENAME \u001b[38;5;241m=\u001b[39m \u001b[38;5;124m\"\u001b[39m\u001b[38;5;124mT2_IT_Bari\u001b[39m\u001b[38;5;124m\"\u001b[39m\n\u001b[0;32m---> 25\u001b[0m c \u001b[38;5;241m=\u001b[39m \u001b[43mClient\u001b[49m\u001b[43m(\u001b[49m\u001b[43maccount\u001b[49m\u001b[38;5;241;43m=\u001b[39;49m\u001b[43mACCOUNT\u001b[49m\u001b[43m,\u001b[49m\u001b[43m \u001b[49m\u001b[43mauth_type\u001b[49m\u001b[38;5;241;43m=\u001b[39;49m\u001b[38;5;124;43m\"\u001b[39;49m\u001b[38;5;124;43mx509_proxy\u001b[39;49m\u001b[38;5;124;43m\"\u001b[39;49m\u001b[43m)\u001b[49m\n",
      "File \u001b[0;32m~/.local/lib/python3.8/site-packages/rucio/client/client.py:77\u001b[0m, in \u001b[0;36mClient.__init__\u001b[0;34m(self, **args)\u001b[0m\n\u001b[1;32m     63\u001b[0m \u001b[38;5;28;01mdef\u001b[39;00m \u001b[38;5;21m__init__\u001b[39m(\u001b[38;5;28mself\u001b[39m, \u001b[38;5;241m*\u001b[39m\u001b[38;5;241m*\u001b[39margs):\n\u001b[1;32m     64\u001b[0m     \u001b[38;5;124;03m\"\"\"\u001b[39;00m\n\u001b[1;32m     65\u001b[0m \u001b[38;5;124;03m    Constructor for the Rucio main client class.\u001b[39;00m\n\u001b[1;32m     66\u001b[0m \n\u001b[0;32m   (...)\u001b[0m\n\u001b[1;32m     75\u001b[0m \u001b[38;5;124;03m    :param logger: Logger instance to use (optional)\u001b[39;00m\n\u001b[1;32m     76\u001b[0m \u001b[38;5;124;03m    \"\"\"\u001b[39;00m\n\u001b[0;32m---> 77\u001b[0m     \u001b[38;5;28;43msuper\u001b[39;49m\u001b[43m(\u001b[49m\u001b[43mClient\u001b[49m\u001b[43m,\u001b[49m\u001b[43m \u001b[49m\u001b[38;5;28;43mself\u001b[39;49m\u001b[43m)\u001b[49m\u001b[38;5;241;43m.\u001b[39;49m\u001b[38;5;21;43m__init__\u001b[39;49m\u001b[43m(\u001b[49m\u001b[38;5;241;43m*\u001b[39;49m\u001b[38;5;241;43m*\u001b[39;49m\u001b[43margs\u001b[49m\u001b[43m)\u001b[49m\n",
      "File \u001b[0;32m~/.local/lib/python3.8/site-packages/rucio/client/baseclient.py:282\u001b[0m, in \u001b[0;36mBaseClient.__init__\u001b[0;34m(self, rucio_host, auth_host, account, ca_cert, auth_type, creds, timeout, user_agent, vo, logger)\u001b[0m\n\u001b[1;32m    278\u001b[0m     \u001b[38;5;28mself\u001b[39m\u001b[38;5;241m.\u001b[39mtoken_file \u001b[38;5;241m=\u001b[39m \u001b[38;5;28mself\u001b[39m\u001b[38;5;241m.\u001b[39mtoken_path \u001b[38;5;241m+\u001b[39m \u001b[38;5;124m'\u001b[39m\u001b[38;5;124m/\u001b[39m\u001b[38;5;124m'\u001b[39m \u001b[38;5;241m+\u001b[39m \u001b[38;5;28mself\u001b[39m\u001b[38;5;241m.\u001b[39mTOKEN_PREFIX \u001b[38;5;241m+\u001b[39m token_filename_suffix\n\u001b[1;32m    280\u001b[0m \u001b[38;5;28mself\u001b[39m\u001b[38;5;241m.\u001b[39mtoken_exp_epoch_file \u001b[38;5;241m=\u001b[39m \u001b[38;5;28mself\u001b[39m\u001b[38;5;241m.\u001b[39mtoken_path \u001b[38;5;241m+\u001b[39m \u001b[38;5;124m'\u001b[39m\u001b[38;5;124m/\u001b[39m\u001b[38;5;124m'\u001b[39m \u001b[38;5;241m+\u001b[39m \u001b[38;5;28mself\u001b[39m\u001b[38;5;241m.\u001b[39mTOKEN_EXP_PREFIX \u001b[38;5;241m+\u001b[39m token_filename_suffix\n\u001b[0;32m--> 282\u001b[0m \u001b[38;5;28;43mself\u001b[39;49m\u001b[38;5;241;43m.\u001b[39;49m\u001b[43m__authenticate\u001b[49m\u001b[43m(\u001b[49m\u001b[43m)\u001b[49m\n\u001b[1;32m    284\u001b[0m \u001b[38;5;28;01mtry\u001b[39;00m:\n\u001b[1;32m    285\u001b[0m     \u001b[38;5;28mself\u001b[39m\u001b[38;5;241m.\u001b[39mrequest_retries \u001b[38;5;241m=\u001b[39m \u001b[38;5;28mint\u001b[39m(config_get(\u001b[38;5;124m'\u001b[39m\u001b[38;5;124mclient\u001b[39m\u001b[38;5;124m'\u001b[39m, \u001b[38;5;124m'\u001b[39m\u001b[38;5;124mrequest_retries\u001b[39m\u001b[38;5;124m'\u001b[39m))\n",
      "File \u001b[0;32m~/.local/lib/python3.8/site-packages/rucio/client/baseclient.py:929\u001b[0m, in \u001b[0;36mBaseClient.__authenticate\u001b[0;34m(self)\u001b[0m\n\u001b[1;32m    926\u001b[0m     \u001b[38;5;28;01mraise\u001b[39;00m CannotAuthenticate(\u001b[38;5;124m'\u001b[39m\u001b[38;5;124mauth type \u001b[39m\u001b[38;5;130;01m\\'\u001b[39;00m\u001b[38;5;132;01m%s\u001b[39;00m\u001b[38;5;130;01m\\'\u001b[39;00m\u001b[38;5;124m not supported\u001b[39m\u001b[38;5;124m'\u001b[39m \u001b[38;5;241m%\u001b[39m \u001b[38;5;28mself\u001b[39m\u001b[38;5;241m.\u001b[39mauth_type)\n\u001b[1;32m    928\u001b[0m \u001b[38;5;28;01mif\u001b[39;00m \u001b[38;5;129;01mnot\u001b[39;00m \u001b[38;5;28mself\u001b[39m\u001b[38;5;241m.\u001b[39m__read_token():\n\u001b[0;32m--> 929\u001b[0m     \u001b[38;5;28;43mself\u001b[39;49m\u001b[38;5;241;43m.\u001b[39;49m\u001b[43m__get_token\u001b[49m\u001b[43m(\u001b[49m\u001b[43m)\u001b[49m\n",
      "File \u001b[0;32m~/.local/lib/python3.8/site-packages/rucio/client/baseclient.py:822\u001b[0m, in \u001b[0;36mBaseClient.__get_token\u001b[0;34m(self)\u001b[0m\n\u001b[1;32m    819\u001b[0m         \u001b[38;5;28;01mraise\u001b[39;00m CannotAuthenticate(\u001b[38;5;124m'\u001b[39m\u001b[38;5;124muserpass authentication failed for account=\u001b[39m\u001b[38;5;132;01m%s\u001b[39;00m\u001b[38;5;124m with identity=\u001b[39m\u001b[38;5;132;01m%s\u001b[39;00m\u001b[38;5;124m'\u001b[39m \u001b[38;5;241m%\u001b[39m (\u001b[38;5;28mself\u001b[39m\u001b[38;5;241m.\u001b[39maccount,\n\u001b[1;32m    820\u001b[0m                                                                                                      \u001b[38;5;28mself\u001b[39m\u001b[38;5;241m.\u001b[39mcreds[\u001b[38;5;124m'\u001b[39m\u001b[38;5;124musername\u001b[39m\u001b[38;5;124m'\u001b[39m]))\n\u001b[1;32m    821\u001b[0m \u001b[38;5;28;01melif\u001b[39;00m \u001b[38;5;28mself\u001b[39m\u001b[38;5;241m.\u001b[39mauth_type \u001b[38;5;241m==\u001b[39m \u001b[38;5;124m'\u001b[39m\u001b[38;5;124mx509\u001b[39m\u001b[38;5;124m'\u001b[39m \u001b[38;5;129;01mor\u001b[39;00m \u001b[38;5;28mself\u001b[39m\u001b[38;5;241m.\u001b[39mauth_type \u001b[38;5;241m==\u001b[39m \u001b[38;5;124m'\u001b[39m\u001b[38;5;124mx509_proxy\u001b[39m\u001b[38;5;124m'\u001b[39m:\n\u001b[0;32m--> 822\u001b[0m     \u001b[38;5;28;01mif\u001b[39;00m \u001b[38;5;129;01mnot\u001b[39;00m \u001b[38;5;28;43mself\u001b[39;49m\u001b[38;5;241;43m.\u001b[39;49m\u001b[43m__get_token_x509\u001b[49m\u001b[43m(\u001b[49m\u001b[43m)\u001b[49m:\n\u001b[1;32m    823\u001b[0m         \u001b[38;5;28;01mraise\u001b[39;00m CannotAuthenticate(\u001b[38;5;124m'\u001b[39m\u001b[38;5;124mx509 authentication failed for account=\u001b[39m\u001b[38;5;132;01m%s\u001b[39;00m\u001b[38;5;124m with identity=\u001b[39m\u001b[38;5;132;01m%s\u001b[39;00m\u001b[38;5;124m'\u001b[39m \u001b[38;5;241m%\u001b[39m (\u001b[38;5;28mself\u001b[39m\u001b[38;5;241m.\u001b[39maccount,\n\u001b[1;32m    824\u001b[0m                                                                                                  \u001b[38;5;28mself\u001b[39m\u001b[38;5;241m.\u001b[39mcreds))\n\u001b[1;32m    825\u001b[0m \u001b[38;5;28;01melif\u001b[39;00m \u001b[38;5;28mself\u001b[39m\u001b[38;5;241m.\u001b[39mauth_type \u001b[38;5;241m==\u001b[39m \u001b[38;5;124m'\u001b[39m\u001b[38;5;124moidc\u001b[39m\u001b[38;5;124m'\u001b[39m:\n",
      "File \u001b[0;32m~/.local/lib/python3.8/site-packages/rucio/client/baseclient.py:681\u001b[0m, in \u001b[0;36mBaseClient.__get_token_x509\u001b[0;34m(self)\u001b[0m\n\u001b[1;32m    678\u001b[0m \u001b[38;5;28;01melse\u001b[39;00m:\n\u001b[1;32m    679\u001b[0m     cert \u001b[38;5;241m=\u001b[39m (client_cert, client_key)\n\u001b[0;32m--> 681\u001b[0m result \u001b[38;5;241m=\u001b[39m \u001b[38;5;28;43mself\u001b[39;49m\u001b[38;5;241;43m.\u001b[39;49m\u001b[43m_send_request\u001b[49m\u001b[43m(\u001b[49m\u001b[43murl\u001b[49m\u001b[43m,\u001b[49m\u001b[43m \u001b[49m\u001b[43mget_token\u001b[49m\u001b[38;5;241;43m=\u001b[39;49m\u001b[38;5;28;43;01mTrue\u001b[39;49;00m\u001b[43m,\u001b[49m\u001b[43m \u001b[49m\u001b[43mcert\u001b[49m\u001b[38;5;241;43m=\u001b[39;49m\u001b[43mcert\u001b[49m\u001b[43m)\u001b[49m\n\u001b[1;32m    683\u001b[0m \u001b[38;5;66;03m# Note a response object for a failed request evaluates to false, so we cannot\u001b[39;00m\n\u001b[1;32m    684\u001b[0m \u001b[38;5;66;03m# use \"not result\" here\u001b[39;00m\n\u001b[1;32m    685\u001b[0m \u001b[38;5;28;01mif\u001b[39;00m result \u001b[38;5;129;01mis\u001b[39;00m \u001b[38;5;28;01mNone\u001b[39;00m:\n",
      "File \u001b[0;32m~/.local/lib/python3.8/site-packages/rucio/client/baseclient.py:436\u001b[0m, in \u001b[0;36mBaseClient._send_request\u001b[0;34m(self, url, headers, type_, data, params, stream, get_token, cert, auth, verify)\u001b[0m\n\u001b[1;32m    433\u001b[0m         \u001b[38;5;28;01mbreak\u001b[39;00m\n\u001b[1;32m    435\u001b[0m \u001b[38;5;28;01mif\u001b[39;00m result \u001b[38;5;129;01mis\u001b[39;00m \u001b[38;5;28;01mNone\u001b[39;00m:\n\u001b[0;32m--> 436\u001b[0m     \u001b[38;5;28;01mraise\u001b[39;00m ServerConnectionException\n\u001b[1;32m    437\u001b[0m \u001b[38;5;28;01mreturn\u001b[39;00m result\n",
      "\u001b[0;31mServerConnectionException\u001b[0m: Cannot connect to the Rucio server."
     ]
    }
   ],
   "source": [
    "%%capture\n",
    "\n",
    "import ROOT\n",
    "import os\n",
    "from dask.distributed import Client, PipInstall, WorkerPlugin\n",
    "import json\n",
    "from samplesUL import *\n",
    "import sys \n",
    "from dask_jobqueue import HTCondorCluster\n",
    "from distributed.diagnostics.plugin import UploadFile\n",
    "\n",
    "from rucio.client.client import Client\n",
    "import os\n",
    "\n",
    "import logging\n",
    "logger = logging.getLogger(__name__)\n",
    "logging.disable('WARNING')\n",
    "\n",
    "os.environ[\"RUCIO_HOME\"] = \"/cvmfs/cms.cern.ch/rucio/current/\"\n",
    "os.environ['X509_CERT_DIR'] = \"/cvmfs/cms.cern.ch/grid/etc/grid-security/certificates\"\n",
    "os.environ['X509_USER_PROXY'] = \"/opt/workspace/persistent-storage/proxy\"\n",
    "RUCIO_SCOPE = \"cms\"\n",
    "ACCOUNT = \"bdanzi\"\n",
    "\n",
    "SITENAME = \"T2_IT_Bari\"\n",
    "\n",
    "c = Client(account=ACCOUNT, auth_type=\"x509_proxy\")"
   ]
  },
  {
   "cell_type": "code",
   "execution_count": null,
   "id": "fd31faea-5f87-451f-8910-76d7115ff61f",
   "metadata": {},
   "outputs": [],
   "source": [
    "did = {'scope': RUCIO_SCOPE, \n",
    "       'name': CMS_DATASET_NAME,\n",
    "       'type': 'DATASET'}\n",
    "\n",
    "c.add_replication_rule([did], 1, SITENAME, lifetime=15778800)"
   ]
  },
  {
   "cell_type": "code",
   "execution_count": null,
   "id": "2ef2c57d-19ee-4712-b83b-32e80baadd65",
   "metadata": {},
   "outputs": [],
   "source": []
  }
 ],
 "metadata": {
  "kernelspec": {
   "display_name": "Singularity kernel",
   "language": "python",
   "name": "singularity-kernel"
  },
  "language_info": {
   "codemirror_mode": {
    "name": "ipython",
    "version": 3
   },
   "file_extension": ".py",
   "mimetype": "text/x-python",
   "name": "python",
   "nbconvert_exporter": "python",
   "pygments_lexer": "ipython3",
   "version": "3.8.10"
  }
 },
 "nbformat": 4,
 "nbformat_minor": 5
}
